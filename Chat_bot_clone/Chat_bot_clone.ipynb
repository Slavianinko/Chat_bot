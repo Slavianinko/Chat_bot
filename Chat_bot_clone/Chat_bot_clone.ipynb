{
 "cells": [
  {
   "cell_type": "markdown",
   "id": "2745566d-2303-4a8e-8c9b-cd52721ad3c6",
   "metadata": {},
   "source": [
    "# Диалог с клоном"
   ]
  },
  {
   "cell_type": "markdown",
   "id": "28ac601f-e1d4-4e1a-86f0-00bd6ce7c776",
   "metadata": {},
   "source": [
    "Идея проекта заключается в том, чтобы создать чать бот на данных реального диалога. Некое подобие клона образа человека, иммитирующего его общение в чате.\n",
    "\n",
    "Реализация:\n",
    "1. Сохраняем диалог из меседжера VK в виде текстовых файлов;\n",
    "2. Извлекаем из полученного диалога вопросы к выбранному собеседнику и его ответы.\n",
    "3. Преобразуем вопросы: очищаем, лемматизируем, векторизируем, сокращаем размерность векторов методом главных компонент, кластеризируем. В итоге получаем разметку вопросов по группам.\n",
    "4. Обучаем модель классификации: в качестве признаков векторизированный текст, в качестве целевого признака полученные группы вопросов.\n",
    "5. Запускаем чат бот. При получении текста очищаем, лемматизируем, векторизируем и подаём в обученный классификатор. Выбираем случайный ответ из группы, совпадающей с выданной классификатором."
   ]
  },
  {
   "cell_type": "code",
   "execution_count": 1,
   "id": "7274bd79-6697-45da-829a-02b78d603c39",
   "metadata": {},
   "outputs": [],
   "source": [
    "# Импорт библиотек\n",
    "import pandas as pd\n",
    "import numpy as np\n",
    "import matplotlib.pyplot as plt\n",
    "import random\n",
    "import re\n",
    "\n",
    "from nltk.corpus import stopwords as nltk_stopwords\n",
    "from pymystem3 import Mystem\n",
    "\n",
    "from sklearn.feature_extraction.text import TfidfVectorizer\n",
    "from sklearn.ensemble import RandomForestClassifier\n",
    "from sklearn.decomposition import PCA\n",
    "from sklearn.cluster import AffinityPropagation\n",
    "\n",
    "from telegram import Update, ForceReply\n",
    "from telegram.ext import Updater, CommandHandler, MessageHandler, Filters, CallbackContext"
   ]
  },
  {
   "cell_type": "code",
   "execution_count": 2,
   "id": "1a44d9a2-2729-4fd8-a4e1-8c967fe2d1b0",
   "metadata": {},
   "outputs": [],
   "source": [
    "# pip install pymorphy2"
   ]
  },
  {
   "cell_type": "markdown",
   "id": "e9335973-bd44-442d-bd18-fa87337c3314",
   "metadata": {},
   "source": [
    "## Чтение данных"
   ]
  },
  {
   "cell_type": "code",
   "execution_count": 3,
   "id": "eaf0f383-500b-4be2-bdf5-ae5b3dbdf6b4",
   "metadata": {},
   "outputs": [],
   "source": [
    "PATH = \"d:/PycharmProjects/Chat_bot_Oleg/\""
   ]
  },
  {
   "cell_type": "code",
   "execution_count": 4,
   "id": "e9c58b10-5ba4-46ae-94af-0d3f6389708c",
   "metadata": {},
   "outputs": [],
   "source": [
    "# Чтение файла и отправка данных в БД\n",
    "def readfile():\n",
    "    \"\"\"Парсим данные из текстовых файлов с перепиской скачанной из VK\n",
    "    \"\"\"\n",
    "    filename = ['Севастополь, поехали!/#0 30.05.2020_21.34 - 14.07.2020_18.07.txt',\n",
    "                'Севастополь, поехали!/#1 14.07.2020_19.24 - 04.11.2020_18.38.txt',\n",
    "                'Севастополь, поехали!/#2 04.11.2020_18.44 - 29.01.2021_21.09.txt',\n",
    "                'Севастополь, поехали!/#3 29.01.2021_21.10 - 26.04.2021_11.39.txt',\n",
    "                'Севастополь, поехали!/#4 26.04.2021_11.40 - 19.07.2021_19.35.txt',\n",
    "                'Севастополь, поехали!/#5 19.07.2021_20.03 - 06.10.2021_10.09.txt',\n",
    "                'Севастополь, поехали!/#6 06.10.2021_10.09 - 24.11.2021_18.47.txt',\n",
    "                'Изюминская велофлудилка/#00 15.11.2018_10.46 - 22.01.2019_22.10.txt',\n",
    "                'Изюминская велофлудилка/#01 22.01.2019_22.10 - 20.02.2019_18.37.txt',\n",
    "                'Изюминская велофлудилка/#02 20.02.2019_18.52 - 25.03.2019_15.31.txt',\n",
    "                'Изюминская велофлудилка/#03 25.03.2019_15.35 - 14.04.2019_19.37.txt',\n",
    "                'Изюминская велофлудилка/#04 14.04.2019_19.39 - 06.05.2019_19.46.txt',\n",
    "                'Изюминская велофлудилка/#05 06.05.2019_20.18 - 25.05.2019_19.27.txt',\n",
    "                'Изюминская велофлудилка/#06 25.05.2019_19.40 - 07.06.2019_14.41.txt',\n",
    "                'Изюминская велофлудилка/#07 07.06.2019_14.42 - 26.06.2019_18.14.txt',\n",
    "                'Изюминская велофлудилка/#08 26.06.2019_18.16 - 27.08.2019_22.06.txt',\n",
    "                'Изюминская велофлудилка/#09 27.08.2019_22.26 - 18.10.2019_11.22.txt',\n",
    "                'Изюминская велофлудилка/#10 18.10.2019_12.22 - 06.12.2019_20.35.txt',\n",
    "                'Изюминская велофлудилка/#11 06.12.2019_20.35 - 28.12.2019_20.20.txt',\n",
    "                'Изюминская велофлудилка/#12 28.12.2019_20.22 - 16.01.2020_11.51.txt',\n",
    "                'Изюминская велофлудилка/#13 16.01.2020_11.51 - 28.01.2020_13.25.txt',\n",
    "                'Изюминская велофлудилка/#14 28.01.2020_13.26 - 12.02.2020_18.31.txt',\n",
    "                'Изюминская велофлудилка/#15 12.02.2020_18.31 - 29.02.2020_22.39.txt',\n",
    "                'Изюминская велофлудилка/#16 29.02.2020_22.50 - 19.03.2020_13.04.txt',\n",
    "                'Изюминская велофлудилка/#17 19.03.2020_13.05 - 11.04.2020_14.13.txt',\n",
    "                'Изюминская велофлудилка/#18 11.04.2020_15.27 - 04.05.2020_17.27.txt',\n",
    "                'Изюминская велофлудилка/#19 04.05.2020_17.54 - 29.11.2020_11.44.txt'\n",
    "               ]\n",
    "\n",
    "    dialog = []\n",
    "    for iFilename in filename:\n",
    "        file = open(PATH+iFilename, encoding='utf8')\n",
    "        lines = file.readlines()\n",
    "        rangeFile = file.tell()\n",
    "        file.seek(0)\n",
    "        lenf = len(lines)\n",
    "        previos = ''\n",
    "        while file.tell() != rangeFile:\n",
    "            line = file.readline()\n",
    "            if (line != '\\n')&(line[0] != '\\t'):\n",
    "                if 'tot_oleg' in line:\n",
    "                    otvet = file.readline()\n",
    "                    if otvet[0] == '\\t':\n",
    "                        vopros = file.readline()[1:]\n",
    "                        trash = file.readline()\n",
    "                        otvet = file.readline()\n",
    "                    else:\n",
    "                        vopros = previos\n",
    "                    if (vopros[:-1] != '') & (otvet[:-1] != ''):\n",
    "                        dialog.append([vopros[:-1], otvet[:-1]])\n",
    "                else:\n",
    "                    previos = file.readline()\n",
    "                    while (previos[0] == '\\t'):\n",
    "                        previos = file.readline()\n",
    "    print(len(dialog))\n",
    "    return dialog"
   ]
  },
  {
   "cell_type": "code",
   "execution_count": 5,
   "id": "eec2caf9-ef98-40d5-bd6f-1eca3b13496f",
   "metadata": {
    "scrolled": true,
    "tags": []
   },
   "outputs": [
    {
     "name": "stdout",
     "output_type": "stream",
     "text": [
      "2326\n"
     ]
    }
   ],
   "source": [
    "# Читаем данные из файлов\n",
    "BOT_CONFIG = readfile()"
   ]
  },
  {
   "cell_type": "code",
   "execution_count": 6,
   "id": "b4ace9cd-40b3-4e23-b0aa-b955bc5d20c7",
   "metadata": {},
   "outputs": [],
   "source": [
    "# Формируем вопросы(corpus) и ответы (y)\n",
    "corpus = []\n",
    "y = []\n",
    "for intent in BOT_CONFIG:\n",
    "    corpus.append(intent[0])\n",
    "    y.append(intent[1])\n"
   ]
  },
  {
   "cell_type": "code",
   "execution_count": 7,
   "id": "b4d9e32b-c23f-4cbe-bacd-eceddfe26bea",
   "metadata": {},
   "outputs": [
    {
     "data": {
      "text/plain": [
       "2326"
      ]
     },
     "execution_count": 7,
     "metadata": {},
     "output_type": "execute_result"
    }
   ],
   "source": [
    "df = pd.DataFrame()\n",
    "df['text'] = corpus\n",
    "len(corpus)"
   ]
  },
  {
   "cell_type": "code",
   "execution_count": 27,
   "id": "c5500f8f-3fd9-48a6-bc64-80075f0f486d",
   "metadata": {},
   "outputs": [
    {
     "data": {
      "text/plain": [
       "['Да! С праздником Вас! Спортсмены!',\n",
       " 'Олег, а ты не поехал?!',\n",
       " 'Празднуете с семьёю?',\n",
       " 'Олег, сколько там хамса стоит?',\n",
       " 'Спасибо']"
      ]
     },
     "execution_count": 27,
     "metadata": {},
     "output_type": "execute_result"
    }
   ],
   "source": [
    "corpus[:5]"
   ]
  },
  {
   "cell_type": "code",
   "execution_count": 29,
   "id": "3080babe-6443-401b-8938-7512d3beac6b",
   "metadata": {},
   "outputs": [
    {
     "data": {
      "text/plain": [
       "['С праздником!',\n",
       " 'С утра не имею возможности - семейное планы. После обеда куда-нибудь куда успею съезжу.',\n",
       " 'Ага, на рынке пятого километра 🤣',\n",
       " 'Я ещё не там, если побываю на тех рядах, увижу - напишу.',\n",
       " 'Хамса только на одной точке была в наличии']"
      ]
     },
     "execution_count": 29,
     "metadata": {},
     "output_type": "execute_result"
    }
   ],
   "source": [
    "y[:5]"
   ]
  },
  {
   "cell_type": "markdown",
   "id": "97dff822-f895-420c-8cc0-545836cf1ef0",
   "metadata": {},
   "source": [
    "**Вывод**\n",
    "\n",
    "Данные прочитаны"
   ]
  },
  {
   "cell_type": "markdown",
   "id": "ff6f1eb9-7a2d-419f-8393-90f61042098d",
   "metadata": {},
   "source": [
    "## Преобразование данных\n",
    "\n",
    "1. Очищаем и лемматизируем;\n",
    "2. Векторизируем;\n",
    "3. Сокращаем размерность векторов методом главных компонент, \n",
    "4. Кластеризируем. \n",
    "\n",
    "В итоге получаем разметку вопросов по группам"
   ]
  },
  {
   "cell_type": "code",
   "execution_count": 8,
   "id": "42e2630b-ef56-4ced-be93-53a7d855731d",
   "metadata": {},
   "outputs": [],
   "source": [
    "# Ускоритель лемматизатора\n",
    "m = Mystem()\n",
    "def checkExecTimeMystemOneText(texts):\n",
    "    \"\"\" Лемматизация текста большими частями с разделением\n",
    "    \"\"\"\n",
    "    lol = lambda lst, sz: [lst[i:i+sz] for i in range(0, len(lst), sz)]\n",
    "    txtpart = lol(texts, 1000)\n",
    "    res = []\n",
    "    for txtp in txtpart:\n",
    "        alltexts = ' '.join([txt + ' br ' for txt in txtp])\n",
    "        words = m.lemmatize(alltexts)\n",
    "        doc = []\n",
    "        for txt in words:\n",
    "            if txt != '\\n' and txt.strip() != '':\n",
    "                if txt == 'br':\n",
    "                    res.append(doc)\n",
    "                    doc = []\n",
    "                else:\n",
    "                    doc.append(txt)\n",
    "    return res\n",
    "\n",
    "def lemm_text(text):\n",
    "    \"\"\" очистка и лемматизация\n",
    "    \"\"\"\n",
    "    return ' '.join([i for i in m.lemmatize(''.join(re.sub(r'[^а-яА-ЯёЁa-z]', ' ', text).lower())) if i != '\\n'])"
   ]
  },
  {
   "cell_type": "code",
   "execution_count": 9,
   "id": "0e4f0e92-bace-42f1-87cc-386c75667e25",
   "metadata": {},
   "outputs": [],
   "source": [
    "# Лематизация с очисткой\n",
    "df['lemmatize'] = df['text'].apply(lambda x: ''.join(re.sub(r'[^а-яА-ЯёЁa-z]', ' ', x).lower()))\n",
    "df.head()\n",
    "\n",
    "df['lemmatize'] = checkExecTimeMystemOneText(df['lemmatize'])\n",
    "df['lemmatize'] = df['lemmatize'].apply(' '.join)"
   ]
  },
  {
   "cell_type": "code",
   "execution_count": 10,
   "id": "a13af568-d75b-43c5-b49d-3191b7ecb93f",
   "metadata": {},
   "outputs": [
    {
     "data": {
      "text/html": [
       "<div>\n",
       "<style scoped>\n",
       "    .dataframe tbody tr th:only-of-type {\n",
       "        vertical-align: middle;\n",
       "    }\n",
       "\n",
       "    .dataframe tbody tr th {\n",
       "        vertical-align: top;\n",
       "    }\n",
       "\n",
       "    .dataframe thead th {\n",
       "        text-align: right;\n",
       "    }\n",
       "</style>\n",
       "<table border=\"1\" class=\"dataframe\">\n",
       "  <thead>\n",
       "    <tr style=\"text-align: right;\">\n",
       "      <th></th>\n",
       "      <th>text</th>\n",
       "      <th>lemmatize</th>\n",
       "    </tr>\n",
       "  </thead>\n",
       "  <tbody>\n",
       "    <tr>\n",
       "      <th>0</th>\n",
       "      <td>Да! С праздником Вас! Спортсмены!</td>\n",
       "      <td>да с праздник вы спортсмен</td>\n",
       "    </tr>\n",
       "    <tr>\n",
       "      <th>1</th>\n",
       "      <td>Олег, а ты не поехал?!</td>\n",
       "      <td>олег а ты не поехать</td>\n",
       "    </tr>\n",
       "    <tr>\n",
       "      <th>2</th>\n",
       "      <td>Празднуете с семьёю?</td>\n",
       "      <td>праздновать с семья</td>\n",
       "    </tr>\n",
       "    <tr>\n",
       "      <th>3</th>\n",
       "      <td>Олег, сколько там хамса стоит?</td>\n",
       "      <td>олег сколько там хамса стоять</td>\n",
       "    </tr>\n",
       "    <tr>\n",
       "      <th>4</th>\n",
       "      <td>Спасибо</td>\n",
       "      <td>спасибо</td>\n",
       "    </tr>\n",
       "  </tbody>\n",
       "</table>\n",
       "</div>"
      ],
      "text/plain": [
       "                                text                      lemmatize\n",
       "0  Да! С праздником Вас! Спортсмены!     да с праздник вы спортсмен\n",
       "1             Олег, а ты не поехал?!           олег а ты не поехать\n",
       "2               Празднуете с семьёю?            праздновать с семья\n",
       "3     Олег, сколько там хамса стоит?  олег сколько там хамса стоять\n",
       "4                            Спасибо                        спасибо"
      ]
     },
     "execution_count": 10,
     "metadata": {},
     "output_type": "execute_result"
    }
   ],
   "source": [
    "df.head()"
   ]
  },
  {
   "cell_type": "code",
   "execution_count": 11,
   "id": "93afe66f-60cc-45ef-a6c4-5e80930916c1",
   "metadata": {},
   "outputs": [],
   "source": [
    "# Читаем стоп-слова\n",
    "stopwords = set(nltk_stopwords.words('russian'))"
   ]
  },
  {
   "cell_type": "code",
   "execution_count": 12,
   "id": "3a08f00d-41e7-4d82-83ed-c61acdacd33a",
   "metadata": {},
   "outputs": [
    {
     "data": {
      "text/plain": [
       "<2326x16245 sparse matrix of type '<class 'numpy.float64'>'\n",
       "\twith 237165 stored elements in Compressed Sparse Row format>"
      ]
     },
     "execution_count": 12,
     "metadata": {},
     "output_type": "execute_result"
    }
   ],
   "source": [
    "# Вектроизация вопросов\n",
    "vectorizer = TfidfVectorizer(ngram_range=(2, 4), analyzer='char_wb', stop_words=stopwords)\n",
    "vector_corpus = vectorizer.fit_transform(df['lemmatize'])\n",
    "\n",
    "vector_corpus"
   ]
  },
  {
   "cell_type": "code",
   "execution_count": 13,
   "id": "774ebe56-e7a0-4103-ac1d-988c03068e08",
   "metadata": {},
   "outputs": [],
   "source": [
    "# Уменьшение размерности векторов\n",
    "n_class = 10\n",
    "classes = ['class_'+str(i) for i in range(n_class)]\n",
    "pca = PCA(n_components=n_class)\n",
    "predict = pca.fit_transform(vector_corpus.toarray())"
   ]
  },
  {
   "cell_type": "code",
   "execution_count": 14,
   "id": "004b74ba-aa19-4ff2-a5e8-f7bf8f2f799f",
   "metadata": {},
   "outputs": [
    {
     "data": {
      "image/png": "[encoded data removed]",
      "text/plain": [
       "<Figure size 432x288 with 1 Axes>"
      ]
     },
     "metadata": {
      "needs_background": "light"
     },
     "output_type": "display_data"
    }
   ],
   "source": [
    "plt.scatter(predict[:,0], predict[:,1]);"
   ]
  },
  {
   "cell_type": "code",
   "execution_count": 15,
   "id": "97ce645c-5644-42f3-bf53-7fd23ad3c3d9",
   "metadata": {},
   "outputs": [
    {
     "data": {
      "image/png": "[encoded data removed]",
      "text/plain": [
       "<Figure size 432x288 with 1 Axes>"
      ]
     },
     "metadata": {
      "needs_background": "light"
     },
     "output_type": "display_data"
    }
   ],
   "source": [
    "plt.scatter(predict[:,-1], predict[:,-2]);"
   ]
  },
  {
   "cell_type": "code",
   "execution_count": 16,
   "id": "87b4e681-bbac-4666-89fc-99ebc2ea2e91",
   "metadata": {},
   "outputs": [],
   "source": [
    "\n",
    "df[classes] = predict\n",
    "df['tot'] = y\n",
    "# df.sort_values(by='class')[1000:1030]"
   ]
  },
  {
   "cell_type": "code",
   "execution_count": 17,
   "id": "45ae8b6c-03e5-49db-889d-961089f4991d",
   "metadata": {},
   "outputs": [
    {
     "data": {
      "text/plain": [
       "class_0    class_1    class_2    class_3    class_4    class_5    class_6    class_7    class_8    class_9  \n",
       "-0.017313  -0.167495  -0.057799   0.032203   0.003289  -0.021747  -0.031879   0.016645   0.003929   0.004631    14\n",
       "-0.036257  -0.200032   0.039737  -0.012656   0.055165  -0.038752   0.017647  -0.056383  -0.063471   0.125948     7\n",
       "-0.017313  -0.167495  -0.057799   0.032203   0.003289  -0.021747  -0.031879   0.016645   0.003929   0.004631     6\n",
       "-0.051142  -0.138113  -0.089177   0.094173   0.027425   0.035375  -0.163067  -0.195603   0.404101  -0.081390     6\n",
       "-0.072551   0.131783   0.070471  -0.025987   0.037263   0.049019   0.066370  -0.132767   0.052296   0.110500     5\n",
       "                                                                                                                ..\n",
       "-0.044719  -0.026225  -0.055213  -0.010462  -0.034744  -0.007406   0.053159  -0.000019  -0.039475   0.044966     1\n",
       "-0.044757   0.020187  -0.021839   0.011017   0.000847  -0.003935   0.030421  -0.021897   0.043248   0.049841     1\n",
       "-0.044778  -0.028713   0.063002  -0.055964   0.037905  -0.032907   0.076369  -0.005672  -0.078011   0.067137     1\n",
       "-0.044851  -0.120962   0.083994   0.002205  -0.071385   0.044627  -0.069802   0.028834  -0.006288  -0.000259     1\n",
       " 0.864051  -0.120008   0.087943  -0.073079   0.107414   0.049267  -0.066343   0.001019   0.005939   0.076653     1\n",
       "Length: 1967, dtype: int64"
      ]
     },
     "execution_count": 17,
     "metadata": {},
     "output_type": "execute_result"
    }
   ],
   "source": [
    "df[classes].value_counts()"
   ]
  },
  {
   "cell_type": "code",
   "execution_count": 18,
   "id": "e01841ad-119c-4d27-9d05-671493b716c4",
   "metadata": {},
   "outputs": [
    {
     "data": {
      "text/html": [
       "<div>\n",
       "<style scoped>\n",
       "    .dataframe tbody tr th:only-of-type {\n",
       "        vertical-align: middle;\n",
       "    }\n",
       "\n",
       "    .dataframe tbody tr th {\n",
       "        vertical-align: top;\n",
       "    }\n",
       "\n",
       "    .dataframe thead th {\n",
       "        text-align: right;\n",
       "    }\n",
       "</style>\n",
       "<table border=\"1\" class=\"dataframe\">\n",
       "  <thead>\n",
       "    <tr style=\"text-align: right;\">\n",
       "      <th></th>\n",
       "      <th>text</th>\n",
       "      <th>lemmatize</th>\n",
       "      <th>class_0</th>\n",
       "      <th>class_1</th>\n",
       "      <th>class_2</th>\n",
       "      <th>class_3</th>\n",
       "      <th>class_4</th>\n",
       "      <th>class_5</th>\n",
       "      <th>class_6</th>\n",
       "      <th>class_7</th>\n",
       "      <th>class_8</th>\n",
       "      <th>class_9</th>\n",
       "      <th>tot</th>\n",
       "    </tr>\n",
       "  </thead>\n",
       "  <tbody>\n",
       "    <tr>\n",
       "      <th>556</th>\n",
       "      <td>Мне кажется, что эти бравые велосипедисты не с...</td>\n",
       "      <td>я казаться что этот бравый велосипедист не сов...</td>\n",
       "      <td>-0.131669</td>\n",
       "      <td>0.319939</td>\n",
       "      <td>0.139393</td>\n",
       "      <td>-0.111539</td>\n",
       "      <td>-0.025991</td>\n",
       "      <td>0.124041</td>\n",
       "      <td>-0.043121</td>\n",
       "      <td>-0.015684</td>\n",
       "      <td>0.002952</td>\n",
       "      <td>-0.126097</td>\n",
       "      <td>👍</td>\n",
       "    </tr>\n",
       "    <tr>\n",
       "      <th>1747</th>\n",
       "      <td>По старинке с орлиного будет быстрее, но на вк...</td>\n",
       "      <td>по старинка с орлиный быть быстро но на вкус и...</td>\n",
       "      <td>-0.111062</td>\n",
       "      <td>0.020529</td>\n",
       "      <td>0.115560</td>\n",
       "      <td>0.016120</td>\n",
       "      <td>0.162671</td>\n",
       "      <td>0.026075</td>\n",
       "      <td>0.078589</td>\n",
       "      <td>0.002081</td>\n",
       "      <td>-0.076874</td>\n",
       "      <td>0.010596</td>\n",
       "      <td>Вполне возможно,  но тут такое дело Денис, тут...</td>\n",
       "    </tr>\n",
       "    <tr>\n",
       "      <th>1748</th>\n",
       "      <td>По старинке с орлиного будет быстрее, но на вк...</td>\n",
       "      <td>по старинка с орлиный быть быстро но на вкус и...</td>\n",
       "      <td>-0.111062</td>\n",
       "      <td>0.020529</td>\n",
       "      <td>0.115560</td>\n",
       "      <td>0.016120</td>\n",
       "      <td>0.162671</td>\n",
       "      <td>0.026075</td>\n",
       "      <td>0.078589</td>\n",
       "      <td>0.002081</td>\n",
       "      <td>-0.076874</td>\n",
       "      <td>0.010596</td>\n",
       "      <td>К тому же в данном случае маршрут пролегает со...</td>\n",
       "    </tr>\n",
       "    <tr>\n",
       "      <th>395</th>\n",
       "      <td>Было дело</td>\n",
       "      <td>быть дело</td>\n",
       "      <td>-0.105185</td>\n",
       "      <td>0.022935</td>\n",
       "      <td>0.035014</td>\n",
       "      <td>0.209419</td>\n",
       "      <td>0.365782</td>\n",
       "      <td>0.194603</td>\n",
       "      <td>-0.050593</td>\n",
       "      <td>0.199755</td>\n",
       "      <td>0.091465</td>\n",
       "      <td>-0.047619</td>\n",
       "      <td>Посмотрите этот маршрут!</td>\n",
       "    </tr>\n",
       "    <tr>\n",
       "      <th>397</th>\n",
       "      <td>Было дело</td>\n",
       "      <td>быть дело</td>\n",
       "      <td>-0.105185</td>\n",
       "      <td>0.022935</td>\n",
       "      <td>0.035014</td>\n",
       "      <td>0.209419</td>\n",
       "      <td>0.365782</td>\n",
       "      <td>0.194603</td>\n",
       "      <td>-0.050593</td>\n",
       "      <td>0.199755</td>\n",
       "      <td>0.091465</td>\n",
       "      <td>-0.047619</td>\n",
       "      <td>Ага, весело было встретить полицию у выезда на...</td>\n",
       "    </tr>\n",
       "  </tbody>\n",
       "</table>\n",
       "</div>"
      ],
      "text/plain": [
       "                                                   text  \\\n",
       "556   Мне кажется, что эти бравые велосипедисты не с...   \n",
       "1747  По старинке с орлиного будет быстрее, но на вк...   \n",
       "1748  По старинке с орлиного будет быстрее, но на вк...   \n",
       "395                                           Было дело   \n",
       "397                                           Было дело   \n",
       "\n",
       "                                              lemmatize   class_0   class_1  \\\n",
       "556   я казаться что этот бравый велосипедист не сов... -0.131669  0.319939   \n",
       "1747  по старинка с орлиный быть быстро но на вкус и... -0.111062  0.020529   \n",
       "1748  по старинка с орлиный быть быстро но на вкус и... -0.111062  0.020529   \n",
       "395                                           быть дело -0.105185  0.022935   \n",
       "397                                           быть дело -0.105185  0.022935   \n",
       "\n",
       "       class_2   class_3   class_4   class_5   class_6   class_7   class_8  \\\n",
       "556   0.139393 -0.111539 -0.025991  0.124041 -0.043121 -0.015684  0.002952   \n",
       "1747  0.115560  0.016120  0.162671  0.026075  0.078589  0.002081 -0.076874   \n",
       "1748  0.115560  0.016120  0.162671  0.026075  0.078589  0.002081 -0.076874   \n",
       "395   0.035014  0.209419  0.365782  0.194603 -0.050593  0.199755  0.091465   \n",
       "397   0.035014  0.209419  0.365782  0.194603 -0.050593  0.199755  0.091465   \n",
       "\n",
       "       class_9                                                tot  \n",
       "556  -0.126097                                                  👍  \n",
       "1747  0.010596  Вполне возможно,  но тут такое дело Денис, тут...  \n",
       "1748  0.010596  К тому же в данном случае маршрут пролегает со...  \n",
       "395  -0.047619                          Посмотрите этот маршрут!   \n",
       "397  -0.047619  Ага, весело было встретить полицию у выезда на...  "
      ]
     },
     "execution_count": 18,
     "metadata": {},
     "output_type": "execute_result"
    }
   ],
   "source": [
    "df.sort_values(by=classes).head()"
   ]
  },
  {
   "cell_type": "code",
   "execution_count": 19,
   "id": "229525a2-75b0-4ad8-8aa5-49142f01899b",
   "metadata": {},
   "outputs": [
    {
     "name": "stdout",
     "output_type": "stream",
     "text": [
      "CPU times: total: 18.6 s\n",
      "Wall time: 18.6 s\n"
     ]
    },
    {
     "data": {
      "text/plain": [
       "array([ 97, 128,  41, ..., 123,  41,  41], dtype=int64)"
      ]
     },
     "execution_count": 19,
     "metadata": {},
     "output_type": "execute_result"
    }
   ],
   "source": [
    "%%time\n",
    "# Кластеризация вопросов\n",
    "clustering = AffinityPropagation(max_iter = 1000, random_state=5555)\n",
    "clasters = clustering.fit_predict(df[classes])\n",
    "clasters"
   ]
  },
  {
   "cell_type": "code",
   "execution_count": 20,
   "id": "2cfe0561-d41a-4e05-ac16-cbf7cd690a20",
   "metadata": {},
   "outputs": [],
   "source": [
    "df['claster'] = clasters"
   ]
  },
  {
   "cell_type": "code",
   "execution_count": 21,
   "id": "6634794d-3bba-461f-b868-1145386e1d34",
   "metadata": {},
   "outputs": [
    {
     "data": {
      "text/plain": [
       "16     87\n",
       "135    84\n",
       "34     74\n",
       "51     62\n",
       "127    58\n",
       "       ..\n",
       "111     1\n",
       "44      1\n",
       "117     1\n",
       "104     1\n",
       "85      1\n",
       "Name: claster, Length: 137, dtype: int64"
      ]
     },
     "execution_count": 21,
     "metadata": {},
     "output_type": "execute_result"
    }
   ],
   "source": [
    "df['claster'].value_counts()"
   ]
  },
  {
   "cell_type": "code",
   "execution_count": 30,
   "id": "d21e17cc-eef3-4160-9150-bd4e56449571",
   "metadata": {},
   "outputs": [
    {
     "data": {
      "text/html": [
       "<div>\n",
       "<style scoped>\n",
       "    .dataframe tbody tr th:only-of-type {\n",
       "        vertical-align: middle;\n",
       "    }\n",
       "\n",
       "    .dataframe tbody tr th {\n",
       "        vertical-align: top;\n",
       "    }\n",
       "\n",
       "    .dataframe thead th {\n",
       "        text-align: right;\n",
       "    }\n",
       "</style>\n",
       "<table border=\"1\" class=\"dataframe\">\n",
       "  <thead>\n",
       "    <tr style=\"text-align: right;\">\n",
       "      <th></th>\n",
       "      <th>text</th>\n",
       "      <th>lemmatize</th>\n",
       "      <th>class_0</th>\n",
       "      <th>class_1</th>\n",
       "      <th>class_2</th>\n",
       "      <th>class_3</th>\n",
       "      <th>class_4</th>\n",
       "      <th>class_5</th>\n",
       "      <th>class_6</th>\n",
       "      <th>class_7</th>\n",
       "      <th>class_8</th>\n",
       "      <th>class_9</th>\n",
       "      <th>tot</th>\n",
       "      <th>claster</th>\n",
       "    </tr>\n",
       "  </thead>\n",
       "  <tbody>\n",
       "    <tr>\n",
       "      <th>2275</th>\n",
       "      <td>Вот спасибо!</td>\n",
       "      <td>вот спасибо</td>\n",
       "      <td>0.030022</td>\n",
       "      <td>-0.274092</td>\n",
       "      <td>-0.117051</td>\n",
       "      <td>-0.019536</td>\n",
       "      <td>-0.204742</td>\n",
       "      <td>0.496672</td>\n",
       "      <td>0.588620</td>\n",
       "      <td>0.045600</td>\n",
       "      <td>0.097670</td>\n",
       "      <td>-0.109372</td>\n",
       "      <td>Посмотрите этот маршрут! Вот такой получился э...</td>\n",
       "      <td>0</td>\n",
       "    </tr>\n",
       "    <tr>\n",
       "      <th>866</th>\n",
       "      <td>Спасибо</td>\n",
       "      <td>спасибо</td>\n",
       "      <td>0.054094</td>\n",
       "      <td>-0.305751</td>\n",
       "      <td>-0.177383</td>\n",
       "      <td>-0.015735</td>\n",
       "      <td>-0.193463</td>\n",
       "      <td>0.545257</td>\n",
       "      <td>0.653372</td>\n",
       "      <td>0.057853</td>\n",
       "      <td>0.070008</td>\n",
       "      <td>-0.134590</td>\n",
       "      <td>https://www.gpsies.com/map.do?fileId=lqlasjfhf...</td>\n",
       "      <td>0</td>\n",
       "    </tr>\n",
       "    <tr>\n",
       "      <th>865</th>\n",
       "      <td>Спасибо</td>\n",
       "      <td>спасибо</td>\n",
       "      <td>0.054094</td>\n",
       "      <td>-0.305751</td>\n",
       "      <td>-0.177383</td>\n",
       "      <td>-0.015735</td>\n",
       "      <td>-0.193463</td>\n",
       "      <td>0.545257</td>\n",
       "      <td>0.653372</td>\n",
       "      <td>0.057853</td>\n",
       "      <td>0.070008</td>\n",
       "      <td>-0.134590</td>\n",
       "      <td>Вот на завтра примерно так:</td>\n",
       "      <td>0</td>\n",
       "    </tr>\n",
       "    <tr>\n",
       "      <th>5</th>\n",
       "      <td>Спасибо</td>\n",
       "      <td>спасибо</td>\n",
       "      <td>0.054094</td>\n",
       "      <td>-0.305751</td>\n",
       "      <td>-0.177383</td>\n",
       "      <td>-0.015735</td>\n",
       "      <td>-0.193463</td>\n",
       "      <td>0.545257</td>\n",
       "      <td>0.653372</td>\n",
       "      <td>0.057853</td>\n",
       "      <td>0.070008</td>\n",
       "      <td>-0.134590</td>\n",
       "      <td>Без проблем</td>\n",
       "      <td>0</td>\n",
       "    </tr>\n",
       "    <tr>\n",
       "      <th>486</th>\n",
       "      <td>спасибо</td>\n",
       "      <td>спасибо</td>\n",
       "      <td>0.054094</td>\n",
       "      <td>-0.305751</td>\n",
       "      <td>-0.177383</td>\n",
       "      <td>-0.015735</td>\n",
       "      <td>-0.193463</td>\n",
       "      <td>0.545257</td>\n",
       "      <td>0.653372</td>\n",
       "      <td>0.057853</td>\n",
       "      <td>0.070008</td>\n",
       "      <td>-0.134590</td>\n",
       "      <td>Любители Велопрогулок и Велопоходов (*_*)</td>\n",
       "      <td>0</td>\n",
       "    </tr>\n",
       "  </tbody>\n",
       "</table>\n",
       "</div>"
      ],
      "text/plain": [
       "              text    lemmatize   class_0   class_1   class_2   class_3  \\\n",
       "2275  Вот спасибо!  вот спасибо  0.030022 -0.274092 -0.117051 -0.019536   \n",
       "866        Спасибо      спасибо  0.054094 -0.305751 -0.177383 -0.015735   \n",
       "865        Спасибо      спасибо  0.054094 -0.305751 -0.177383 -0.015735   \n",
       "5          Спасибо      спасибо  0.054094 -0.305751 -0.177383 -0.015735   \n",
       "486        спасибо      спасибо  0.054094 -0.305751 -0.177383 -0.015735   \n",
       "\n",
       "       class_4   class_5   class_6   class_7   class_8   class_9  \\\n",
       "2275 -0.204742  0.496672  0.588620  0.045600  0.097670 -0.109372   \n",
       "866  -0.193463  0.545257  0.653372  0.057853  0.070008 -0.134590   \n",
       "865  -0.193463  0.545257  0.653372  0.057853  0.070008 -0.134590   \n",
       "5    -0.193463  0.545257  0.653372  0.057853  0.070008 -0.134590   \n",
       "486  -0.193463  0.545257  0.653372  0.057853  0.070008 -0.134590   \n",
       "\n",
       "                                                    tot  claster  \n",
       "2275  Посмотрите этот маршрут! Вот такой получился э...        0  \n",
       "866   https://www.gpsies.com/map.do?fileId=lqlasjfhf...        0  \n",
       "865                         Вот на завтра примерно так:        0  \n",
       "5                                           Без проблем        0  \n",
       "486           Любители Велопрогулок и Велопоходов (*_*)        0  "
      ]
     },
     "execution_count": 30,
     "metadata": {},
     "output_type": "execute_result"
    }
   ],
   "source": [
    "df.sort_values(by='claster').head()"
   ]
  },
  {
   "cell_type": "markdown",
   "id": "308e9e61-cb50-47d9-938d-30cc519b3606",
   "metadata": {},
   "source": [
    "**Вывод**\n",
    "\n",
    "Данные преобразованы и готовы к обучению модели классификации."
   ]
  },
  {
   "cell_type": "markdown",
   "id": "b95a84da-9335-4284-83cc-1b9f8089f321",
   "metadata": {},
   "source": [
    "## Обучение модели и запуск диалога"
   ]
  },
  {
   "cell_type": "code",
   "execution_count": 23,
   "id": "65e11600-5d5f-48cf-a224-2d25c9e3ee54",
   "metadata": {},
   "outputs": [
    {
     "data": {
      "text/plain": [
       "RandomForestClassifier(random_state=12345)"
      ]
     },
     "execution_count": 23,
     "metadata": {},
     "output_type": "execute_result"
    }
   ],
   "source": [
    "# Обучаем модель\n",
    "clf = RandomForestClassifier(random_state=12345)\n",
    "clf.fit(vector_corpus, df['claster'])"
   ]
  },
  {
   "cell_type": "code",
   "execution_count": 24,
   "id": "6e186e68-f599-4fa2-a9dd-081c2313d523",
   "metadata": {},
   "outputs": [],
   "source": [
    "def start(update: Update, context: CallbackContext) -> None:\n",
    "    \"\"\"Send a message when the command /start is issued.\"\"\"\n",
    "    user = update.effective_user\n",
    "    update.message.reply_markdown_v2(\n",
    "        fr'Hi {user.mention_markdown_v2()}\\!',\n",
    "        reply_markup=ForceReply(selective=True),\n",
    "    )\n",
    "\n",
    "\n",
    "def help_command(update: Update, context: CallbackContext) -> None:\n",
    "    \"\"\"Send a message when the command /help is issued.\"\"\"\n",
    "    update.message.reply_text('Help!')\n",
    "\n",
    "\n",
    "def echo(update: Update, context: CallbackContext) -> None:\n",
    "    \"\"\"Echo the user message.\"\"\"\n",
    "    input_text = update.message.text\n",
    "    reply = bot(input_text)\n",
    "    update.message.reply_text(reply)\n",
    "\n",
    "\n",
    "def main() -> None:\n",
    "    \"\"\"Start the bot.\"\"\"\n",
    "    # Create the Updater and pass it your bot's token.\n",
    "    updater = Updater(\"2136512388:AAFnKljrnlTUMoxEpGw1aRK0fGnhu-9lfS4\")\n",
    "\n",
    "    # Get the dispatcher to register handlers\n",
    "    dispatcher = updater.dispatcher\n",
    "\n",
    "    # on different commands - answer in Telegram\n",
    "    dispatcher.add_handler(CommandHandler(\"start\", start))\n",
    "    dispatcher.add_handler(CommandHandler(\"help\", help_command))\n",
    "\n",
    "    # on non command i.e message - echo the message on Telegram\n",
    "    dispatcher.add_handler(MessageHandler(Filters.text & ~Filters.command, echo))\n",
    "\n",
    "    # Start the Bot\n",
    "    updater.start_polling()\n",
    "\n",
    "    updater.idle()\n",
    "\n",
    "def get_intent_by_model(text):\n",
    "    n_intent = clf.predict(vectorizer.transform([text]))[0]\n",
    "    intent = df[df['claster'] == n_intent]['tot'].values\n",
    "    return intent[random.randint(0, len(intent)-1)]\n",
    "\n",
    "def bot(text):\n",
    "    intent = get_intent_by_model(text)\n",
    "    return intent"
   ]
  },
  {
   "cell_type": "code",
   "execution_count": 25,
   "id": "2bba93a1-135a-4aba-95fe-5a38bd2a9635",
   "metadata": {},
   "outputs": [],
   "source": [
    "if __name__ == '__main__':\n",
    "    main()"
   ]
  },
  {
   "cell_type": "markdown",
   "id": "d7447daa-66d8-4331-b49b-a239231c9915",
   "metadata": {},
   "source": [
    "# Вывод\n",
    "\n",
    "Заработало!"
   ]
  },
  {
   "cell_type": "markdown",
   "id": "f14461fa-1a2d-432d-b9ff-5990dc0dc32c",
   "metadata": {},
   "source": [
    "## Вывод по проекту\n",
    "\n",
    "Цель проекта достигнута. Из живого диалога, мы извлекли данные и научили модель машинного обучения отвечать на вопросы фразами человека.\n",
    "Конечто идеала достичь не удалось. Следующим шагом будет применение к исходному тексту не векторизации tf-idf, а преобразования с помощью модели Bert. Также, в дальнейшем надо будет изменить способ выбора ответвета внутри кластера со случайного на чтото более интелектуальное."
   ]
  }
 ],
 "metadata": {
  "kernelspec": {
   "display_name": "Python 3 (ipykernel)",
   "language": "python",
   "name": "python3"
  },
  "language_info": {
   "codemirror_mode": {
    "name": "ipython",
    "version": 3
   },
   "file_extension": ".py",
   "mimetype": "text/x-python",
   "name": "python",
   "nbconvert_exporter": "python",
   "pygments_lexer": "ipython3",
   "version": "3.9.13"
  }
 },
 "nbformat": 4,
 "nbformat_minor": 5
}
